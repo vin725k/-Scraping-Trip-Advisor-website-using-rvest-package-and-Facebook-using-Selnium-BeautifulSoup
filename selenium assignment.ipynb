{
 "cells": [
  {
   "cell_type": "code",
   "execution_count": null,
   "metadata": {
    "collapsed": true
   },
   "outputs": [],
   "source": []
  },
  {
   "cell_type": "code",
   "execution_count": 2,
   "metadata": {
    "collapsed": true
   },
   "outputs": [],
   "source": [
    "from bs4 import BeautifulSoup\n",
    "import requests   # use this only, not urllibx anymore.\n",
    "page = requests.get(\"https://www.tripadvisor.in/Hotels-g303881-Munnar_Idukki_District_Kerala-Hotels.html\").text\n",
    "soup_obj = BeautifulSoup(page, \"lxml\") ## parse the html using beautiful soup and store in variable `soup`"
   ]
  },
  {
   "cell_type": "code",
   "execution_count": 3,
   "metadata": {},
   "outputs": [
    {
     "data": {
      "text/plain": [
       "[<a class=\"property_title prominent\" data-clicksource=\"HotelName\" dir=\"ltr\" href=\"/Hotel_Review-g303881-d3581670-Reviews-Green_Shades-Munnar_Idukki_District_Kerala.html\" id=\"property_3581670\" onclick=\"return false;\" target=\"_blank\">Green Shades</a>,\n",
       " <a class=\"property_title prominent\" data-clicksource=\"HotelName\" dir=\"ltr\" href=\"/Hotel_Review-g303881-d13087974-Reviews-Treebo_Kurinji_Wanderlust_Munnar-Munnar_Idukki_District_Kerala.html\" id=\"property_13087974\" onclick=\"return false;\" target=\"_blank\">Treebo Kurinji Wanderlust Munnar</a>,\n",
       " <a class=\"property_title prominent\" data-clicksource=\"HotelName\" dir=\"ltr\" href=\"/Hotel_Review-g303881-d7213601-Reviews-Madhumanthra_Resort-Munnar_Idukki_District_Kerala.html\" id=\"property_7213601\" onclick=\"return false;\" target=\"_blank\">Madhumanthra Resort</a>,\n",
       " <a class=\"property_title prominent\" data-clicksource=\"HotelName\" dir=\"ltr\" href=\"/Hotel_Review-g5258996-d2363598-Reviews-Spice_Country_Resorts-Chithirapuram_Munnar_Idukki_District_Kerala.html\" id=\"property_2363598\" onclick=\"return false;\" target=\"_blank\">Spice Country Resorts</a>,\n",
       " <a class=\"property_title prominent\" data-clicksource=\"HotelName\" dir=\"ltr\" href=\"/Hotel_Review-g303881-d1378853-Reviews-Bracknell_Forest-Munnar_Idukki_District_Kerala.html\" id=\"property_1378853\" onclick=\"return false;\" target=\"_blank\">Bracknell Forest</a>,\n",
       " <a class=\"property_title prominent\" data-clicksource=\"HotelName\" dir=\"ltr\" href=\"/Hotel_Review-g8342248-d1156206-Reviews-The_Whispering_Meadows_Munnar-Pallivasal_Munnar_Idukki_District_Kerala.html\" id=\"property_1156206\" onclick=\"return false;\" target=\"_blank\">The Whispering Meadows Munnar</a>,\n",
       " <a class=\"property_title prominent\" data-clicksource=\"HotelName\" dir=\"ltr\" href=\"/Hotel_Review-g303881-d1554038-Reviews-Emmel_Dwellings-Munnar_Idukki_District_Kerala.html\" id=\"property_1554038\" onclick=\"return false;\" target=\"_blank\">Emmel Dwellings</a>,\n",
       " <a class=\"property_title prominent\" data-clicksource=\"HotelName\" dir=\"ltr\" href=\"/Hotel_Review-g303881-d12987332-Reviews-Treebo_Swiss_Garden-Munnar_Idukki_District_Kerala.html\" id=\"property_12987332\" onclick=\"return false;\" target=\"_blank\">Treebo Swiss Garden</a>,\n",
       " <a class=\"property_title prominent\" data-clicksource=\"HotelName\" dir=\"ltr\" href=\"/Hotel_Review-g303881-d634761-Reviews-Shamrock-Munnar_Idukki_District_Kerala.html\" id=\"property_634761\" onclick=\"return false;\" target=\"_blank\">Shamrock</a>,\n",
       " <a class=\"property_title prominent\" data-clicksource=\"HotelName\" dir=\"ltr\" href=\"/Hotel_Review-g303881-d8813225-Reviews-Mazhavil_Homestay_A_Wandertrails_Stay-Munnar_Idukki_District_Kerala.html\" id=\"property_8813225\" onclick=\"return false;\" target=\"_blank\">Mazhavil Homestay - A Wandertrails Stay</a>,\n",
       " <a class=\"property_title prominent\" data-clicksource=\"HotelName\" dir=\"ltr\" href=\"/Hotel_Review-g303881-d607407-Reviews-Olive_Brook-Munnar_Idukki_District_Kerala.html\" id=\"property_607407\" onclick=\"return false;\" target=\"_blank\">Olive Brook</a>,\n",
       " <a class=\"property_title prominent\" data-clicksource=\"HotelName\" dir=\"ltr\" href=\"/Hotel_Review-g303881-d1156347-Reviews-Royal_Retreat-Munnar_Idukki_District_Kerala.html\" id=\"property_1156347\" onclick=\"return false;\" target=\"_blank\">Royal Retreat</a>,\n",
       " <a class=\"property_title prominent\" data-clicksource=\"HotelName\" dir=\"ltr\" href=\"/Hotel_Review-g303881-d12219255-Reviews-OYO_7966_Laacienekkas_Valley_Resort-Munnar_Idukki_District_Kerala.html\" id=\"property_12219255\" onclick=\"return false;\" target=\"_blank\">OYO 7966 Laacienekkas Valley Resort</a>,\n",
       " <a class=\"property_title prominent\" data-clicksource=\"HotelName\" dir=\"ltr\" href=\"/Hotel_Review-g303881-d1014364-Reviews-Nature_Zone_Resort-Munnar_Idukki_District_Kerala.html\" id=\"property_1014364\" onclick=\"return false;\" target=\"_blank\">Nature Zone Resort</a>,\n",
       " <a class=\"property_title prominent\" data-clicksource=\"HotelName\" dir=\"ltr\" href=\"/Hotel_Review-g10517884-d1842295-Reviews-Greenspaces_B_B_Munnar-Pothamedu_Munnar_Idukki_District_Kerala.html\" id=\"property_1842295\" onclick=\"return false;\" target=\"_blank\">Greenspaces B&amp;B Munnar</a>,\n",
       " <a class=\"property_title prominent\" data-clicksource=\"HotelName\" dir=\"ltr\" href=\"/Hotel_Review-g303881-d4064213-Reviews-Nakshathra_Inn-Munnar_Idukki_District_Kerala.html\" id=\"property_4064213\" onclick=\"return false;\" target=\"_blank\">Nakshathra Inn</a>,\n",
       " <a class=\"property_title prominent\" data-clicksource=\"HotelName\" dir=\"ltr\" href=\"/Hotel_Review-g303881-d5504576-Reviews-Silver_Mount_Holidays-Munnar_Idukki_District_Kerala.html\" id=\"property_5504576\" onclick=\"return false;\" target=\"_blank\">Silver Mount Holidays</a>,\n",
       " <a class=\"property_title prominent\" data-clicksource=\"HotelName\" dir=\"ltr\" href=\"/Hotel_Review-g303881-d13134744-Reviews-Munnar_Farmhouse-Munnar_Idukki_District_Kerala.html\" id=\"property_13134744\" onclick=\"return false;\" target=\"_blank\">Munnar Farmhouse</a>,\n",
       " <a class=\"property_title prominent\" data-clicksource=\"HotelName\" dir=\"ltr\" href=\"/Hotel_Review-g303881-d479037-Reviews-Munnar_Inn-Munnar_Idukki_District_Kerala.html\" id=\"property_479037\" onclick=\"return false;\" target=\"_blank\">Munnar Inn</a>,\n",
       " <a class=\"property_title prominent\" data-clicksource=\"HotelName\" dir=\"ltr\" href=\"/Hotel_Review-g303881-d12491487-Reviews-Raarees_Mist_Resorts-Munnar_Idukki_District_Kerala.html\" id=\"property_12491487\" onclick=\"return false;\" target=\"_blank\">Raarees Mist Resorts</a>,\n",
       " <a class=\"property_title prominent\" data-clicksource=\"HotelName\" dir=\"ltr\" href=\"/Hotel_Review-g303881-d8405335-Reviews-Nature_Treat_Home_Stay-Munnar_Idukki_District_Kerala.html\" id=\"property_8405335\" onclick=\"return false;\" target=\"_blank\">Nature Treat Home Stay</a>,\n",
       " <a class=\"property_title prominent\" data-clicksource=\"HotelName\" dir=\"ltr\" href=\"/Hotel_Review-g303881-d11864258-Reviews-Misty_Cardamom_Plantation_Resort-Munnar_Idukki_District_Kerala.html\" id=\"property_11864258\" onclick=\"return false;\" target=\"_blank\">Misty Cardamom Plantation Resort</a>,\n",
       " <a class=\"property_title prominent\" data-clicksource=\"HotelName\" dir=\"ltr\" href=\"/Hotel_Review-g5258996-d7281489-Reviews-Chandys_Windy_Woods-Chithirapuram_Munnar_Idukki_District_Kerala.html\" id=\"property_7281489\" onclick=\"return false;\" target=\"_blank\">Chandys Windy Woods</a>,\n",
       " <a class=\"property_title prominent\" data-clicksource=\"HotelName\" dir=\"ltr\" href=\"/Hotel_Review-g303881-d2395748-Reviews-Aruvi_Resorts-Munnar_Idukki_District_Kerala.html\" id=\"property_2395748\" onclick=\"return false;\" target=\"_blank\">Aruvi Resorts</a>,\n",
       " <a class=\"property_title prominent\" data-clicksource=\"HotelName\" dir=\"ltr\" href=\"/Hotel_Review-g303881-d736416-Reviews-Poopada_Resort-Munnar_Idukki_District_Kerala.html\" id=\"property_736416\" onclick=\"return false;\" target=\"_blank\">Poopada Resort</a>,\n",
       " <a class=\"property_title prominent\" data-clicksource=\"HotelName\" dir=\"ltr\" href=\"/Hotel_Review-g303881-d629170-Reviews-Camelot_Resort-Munnar_Idukki_District_Kerala.html\" id=\"property_629170\" onclick=\"return false;\" target=\"_blank\">Camelot Resort</a>,\n",
       " <a class=\"property_title prominent\" data-clicksource=\"HotelName\" dir=\"ltr\" href=\"/Hotel_Review-g5258996-d1603516-Reviews-The_Shade-Chithirapuram_Munnar_Idukki_District_Kerala.html\" id=\"property_1603516\" onclick=\"return false;\" target=\"_blank\">The Shade</a>,\n",
       " <a class=\"property_title prominent\" data-clicksource=\"HotelName\" dir=\"ltr\" href=\"/Hotel_Review-g303881-d11727210-Reviews-Mangalappillil_Home_stay-Munnar_Idukki_District_Kerala.html\" id=\"property_11727210\" onclick=\"return false;\" target=\"_blank\">Mangalappillil Home stay</a>,\n",
       " <a class=\"property_title prominent\" data-clicksource=\"HotelName\" dir=\"ltr\" href=\"/Hotel_Review-g303881-d1341108-Reviews-Ambady_Estate-Munnar_Idukki_District_Kerala.html\" id=\"property_1341108\" onclick=\"return false;\" target=\"_blank\">Ambady Estate</a>,\n",
       " <a class=\"property_title prominent\" data-clicksource=\"HotelName\" dir=\"ltr\" href=\"/Hotel_Review-g8342248-d1431068-Reviews-Misty_Mountain_Resort-Pallivasal_Munnar_Idukki_District_Kerala.html\" id=\"property_1431068\" onclick=\"return false;\" target=\"_blank\">Misty Mountain Resort</a>]"
      ]
     },
     "execution_count": 3,
     "metadata": {},
     "output_type": "execute_result"
    }
   ],
   "source": [
    "title = soup_obj.find_all('a', class_ = \"prominent\")\n",
    "title"
   ]
  },
  {
   "cell_type": "code",
   "execution_count": 16,
   "metadata": {
    "collapsed": true
   },
   "outputs": [],
   "source": [
    "title_list = [test1.string for test1 in title]"
   ]
  },
  {
   "cell_type": "code",
   "execution_count": 17,
   "metadata": {},
   "outputs": [
    {
     "data": {
      "text/plain": [
       "['Hotel Grand Nubra',\n",
       " 'Grand Himalaya',\n",
       " 'Reenam Hotel',\n",
       " 'Hotel Dragon Ladakh',\n",
       " 'The Mogol Hotel',\n",
       " 'Hotel Shangrila',\n",
       " 'Hotel Namgyal Palace',\n",
       " 'Hotel Chube',\n",
       " 'Hotel Holiday Ladakh',\n",
       " 'Hotel Lingzi',\n",
       " 'Hotel Mansarover',\n",
       " 'Hotel Rafica',\n",
       " 'Dreamland Hotel',\n",
       " 'Yarab Tso',\n",
       " 'Hotel Naro',\n",
       " 'Hotel Hill Town',\n",
       " 'Hotel K2 Continental',\n",
       " 'Hotel Ga-Ldan Continental',\n",
       " 'Hotel Kang Lha Chen',\n",
       " 'Lotus Hotel',\n",
       " 'Lharimo Hotel',\n",
       " 'The Grand Dragon Ladakh',\n",
       " 'WoodyVu Stok House',\n",
       " 'West Ladakh Camp',\n",
       " 'The Kaal',\n",
       " 'Sangto Villa Resort',\n",
       " 'Aryan Valley Camp',\n",
       " 'Hotel Singge Palace',\n",
       " 'OYO 5052 The Auspicious Hotel',\n",
       " 'Spic n Span Hotel']"
      ]
     },
     "execution_count": 17,
     "metadata": {},
     "output_type": "execute_result"
    }
   ],
   "source": [
    "title_list"
   ]
  },
  {
   "cell_type": "code",
   "execution_count": 18,
   "metadata": {
    "collapsed": true
   },
   "outputs": [],
   "source": [
    "no_reviews = soup_obj.find_all('a', class_ = \"review_count\")"
   ]
  },
  {
   "cell_type": "code",
   "execution_count": 4,
   "metadata": {},
   "outputs": [
    {
     "data": {
      "text/plain": [
       "[<div class=\"price autoResize\" data-sizegroup=\"mini-meta-price\">₹ 2,304</div>,\n",
       " <div class=\"price autoResize\" data-sizegroup=\"mini-meta-price\">₹ 1,881</div>,\n",
       " <div class=\"price autoResize\" data-sizegroup=\"mini-meta-price\">₹ 2,596</div>,\n",
       " <div class=\"price autoResize\" data-sizegroup=\"mini-meta-price\">₹ 2,844</div>,\n",
       " <div class=\"price autoResize\" data-sizegroup=\"mini-meta-price\">₹ 3,200</div>,\n",
       " <div class=\"price autoResize\" data-sizegroup=\"mini-meta-price\">₹ 3,136</div>,\n",
       " <div class=\"price autoResize\" data-sizegroup=\"mini-meta-price\">₹ 1,920</div>,\n",
       " <div class=\"price autoResize\" data-sizegroup=\"mini-meta-price\">₹ 1,490</div>,\n",
       " <div class=\"price autoResize\" data-sizegroup=\"mini-meta-price\">₹ 2,199</div>,\n",
       " <div class=\"price autoResize\" data-sizegroup=\"mini-meta-price\">₹ 1,175</div>,\n",
       " <div class=\"price autoResize\" data-sizegroup=\"mini-meta-price\">₹ 5,424</div>,\n",
       " <div class=\"price autoResize\" data-sizegroup=\"mini-meta-price\">₹ 4,130</div>,\n",
       " <div class=\"price autoResize\" data-sizegroup=\"mini-meta-price\">₹ 1,340</div>,\n",
       " <div class=\"price autoResize\" data-sizegroup=\"mini-meta-price\">₹ 5,313</div>,\n",
       " <div class=\"price autoResize\" data-sizegroup=\"mini-meta-price\">₹ 2,436</div>,\n",
       " <div class=\"price autoResize\" data-sizegroup=\"mini-meta-price\">₹ 1,679</div>,\n",
       " <div class=\"price autoResize\" data-sizegroup=\"mini-meta-price\">₹ 1,920</div>,\n",
       " <div class=\"price autoResize\" data-sizegroup=\"mini-meta-price\">₹ 1,200</div>,\n",
       " <div class=\"price autoResize\" data-sizegroup=\"mini-meta-price\">₹ 1,600</div>,\n",
       " <div class=\"price autoResize\" data-sizegroup=\"mini-meta-price\">₹ 1,666</div>,\n",
       " <div class=\"price autoResize\" data-sizegroup=\"mini-meta-price\">₹ 1,860</div>,\n",
       " <div class=\"price autoResize\" data-sizegroup=\"mini-meta-price\">₹ 2,610</div>,\n",
       " <div class=\"price autoResize\" data-sizegroup=\"mini-meta-price\">₹ 7,080</div>,\n",
       " <div class=\"price autoResize\" data-sizegroup=\"mini-meta-price\">₹ 1,656</div>,\n",
       " <div class=\"price autoResize\" data-sizegroup=\"mini-meta-price\">₹ 1,395</div>,\n",
       " <div class=\"price autoResize\" data-sizegroup=\"mini-meta-price\">₹ 8,316</div>,\n",
       " <div class=\"price autoResize\" data-sizegroup=\"mini-meta-price\">₹ 2,350</div>,\n",
       " <div class=\"price autoResize\" data-sizegroup=\"mini-meta-price\">₹ 2,331</div>,\n",
       " <div class=\"price autoResize\" data-sizegroup=\"mini-meta-price\">₹ 6,768</div>,\n",
       " <div class=\"price autoResize\" data-sizegroup=\"mini-meta-price\">₹ 4,924</div>]"
      ]
     },
     "execution_count": 4,
     "metadata": {},
     "output_type": "execute_result"
    }
   ],
   "source": [
    "price_Data = soup_obj.find_all('div',class_ = \"price\")\n",
    "price_Data"
   ]
  },
  {
   "cell_type": "code",
   "execution_count": 32,
   "metadata": {
    "collapsed": true
   },
   "outputs": [],
   "source": [
    "price_Data_list = [test1.string for test1 in price_Data]"
   ]
  },
  {
   "cell_type": "code",
   "execution_count": 33,
   "metadata": {},
   "outputs": [
    {
     "data": {
      "text/plain": [
       "['₹\\xa06,372',\n",
       " '₹\\xa014,502',\n",
       " '₹\\xa03,441',\n",
       " '₹\\xa06,387',\n",
       " '₹\\xa014,502',\n",
       " '₹\\xa04,743',\n",
       " '₹\\xa04,152',\n",
       " '₹\\xa02,257',\n",
       " '₹\\xa04,258',\n",
       " '₹\\xa03,114',\n",
       " '₹\\xa05,310',\n",
       " '₹\\xa04,152',\n",
       " '₹\\xa02,257',\n",
       " '₹\\xa02,576',\n",
       " '₹\\xa04,680',\n",
       " '₹\\xa03,331',\n",
       " '₹\\xa03,876',\n",
       " '₹\\xa03,470',\n",
       " '₹\\xa04,886',\n",
       " '₹\\xa06,579',\n",
       " '₹\\xa05,988',\n",
       " '₹\\xa06,347',\n",
       " '₹\\xa06,800',\n",
       " '₹\\xa04,991',\n",
       " '₹\\xa07,186',\n",
       " '₹\\xa03,672',\n",
       " '₹\\xa09,271',\n",
       " '₹\\xa04,526',\n",
       " '₹\\xa02,717',\n",
       " '₹\\xa057,097',\n",
       " '₹\\xa06,372',\n",
       " '₹\\xa014,502',\n",
       " '₹\\xa03,441',\n",
       " '₹\\xa06,387',\n",
       " '₹\\xa014,502',\n",
       " '₹\\xa04,743',\n",
       " '₹\\xa04,152',\n",
       " '₹\\xa02,257',\n",
       " '₹\\xa04,258',\n",
       " '₹\\xa03,114',\n",
       " '₹\\xa05,310',\n",
       " '₹\\xa04,152',\n",
       " '₹\\xa02,257',\n",
       " '₹\\xa02,576',\n",
       " '₹\\xa04,680',\n",
       " '₹\\xa03,331',\n",
       " '₹\\xa03,876',\n",
       " '₹\\xa03,470',\n",
       " '₹\\xa04,886',\n",
       " '₹\\xa06,579',\n",
       " '₹\\xa05,988',\n",
       " '₹\\xa06,347',\n",
       " '₹\\xa06,800',\n",
       " '₹\\xa04,991',\n",
       " '₹\\xa07,186',\n",
       " '₹\\xa03,672',\n",
       " '₹\\xa09,271',\n",
       " '₹\\xa04,526',\n",
       " '₹\\xa02,717',\n",
       " '₹\\xa057,097']"
      ]
     },
     "execution_count": 33,
     "metadata": {},
     "output_type": "execute_result"
    }
   ],
   "source": [
    "price_Data_list"
   ]
  },
  {
   "cell_type": "code",
   "execution_count": 35,
   "metadata": {},
   "outputs": [
    {
     "data": {
      "text/plain": [
       "['₹6,372',\n",
       " '₹14,502',\n",
       " '₹3,441',\n",
       " '₹6,387',\n",
       " '₹14,502',\n",
       " '₹4,743',\n",
       " '₹4,152',\n",
       " '₹2,257',\n",
       " '₹4,258',\n",
       " '₹3,114',\n",
       " '₹5,310',\n",
       " '₹4,152',\n",
       " '₹2,257',\n",
       " '₹2,576',\n",
       " '₹4,680',\n",
       " '₹3,331',\n",
       " '₹3,876',\n",
       " '₹3,470',\n",
       " '₹4,886',\n",
       " '₹6,579',\n",
       " '₹5,988',\n",
       " '₹6,347',\n",
       " '₹6,800',\n",
       " '₹4,991',\n",
       " '₹7,186',\n",
       " '₹3,672',\n",
       " '₹9,271',\n",
       " '₹4,526',\n",
       " '₹2,717',\n",
       " '₹57,097',\n",
       " '₹6,372',\n",
       " '₹14,502',\n",
       " '₹3,441',\n",
       " '₹6,387',\n",
       " '₹14,502',\n",
       " '₹4,743',\n",
       " '₹4,152',\n",
       " '₹2,257',\n",
       " '₹4,258',\n",
       " '₹3,114',\n",
       " '₹5,310',\n",
       " '₹4,152',\n",
       " '₹2,257',\n",
       " '₹2,576',\n",
       " '₹4,680',\n",
       " '₹3,331',\n",
       " '₹3,876',\n",
       " '₹3,470',\n",
       " '₹4,886',\n",
       " '₹6,579',\n",
       " '₹5,988',\n",
       " '₹6,347',\n",
       " '₹6,800',\n",
       " '₹4,991',\n",
       " '₹7,186',\n",
       " '₹3,672',\n",
       " '₹9,271',\n",
       " '₹4,526',\n",
       " '₹2,717',\n",
       " '₹57,097']"
      ]
     },
     "execution_count": 35,
     "metadata": {},
     "output_type": "execute_result"
    }
   ],
   "source": [
    "price_Data_list = [w.replace('\\xa0', '') for w in price_Data_list]\n",
    "price_Data_list"
   ]
  },
  {
   "cell_type": "code",
   "execution_count": 36,
   "metadata": {
    "collapsed": true
   },
   "outputs": [],
   "source": [
    "facilities = soup_obj.find_all('div',class_ = \"label\")"
   ]
  },
  {
   "cell_type": "code",
   "execution_count": 37,
   "metadata": {},
   "outputs": [
    {
     "data": {
      "text/plain": [
       "[<div class=\"label \">Free Wifi</div>,\n",
       " <div class=\"label \">Free Parking</div>,\n",
       " <div class=\"label \">Free Wifi</div>,\n",
       " <div class=\"label \">Free Parking</div>,\n",
       " <div class=\"label \">Free Parking</div>,\n",
       " <div class=\"label \">Restaurant</div>,\n",
       " <div class=\"label \">Free Wifi</div>,\n",
       " <div class=\"label \">Free Parking</div>,\n",
       " <div class=\"label \">Free Wifi</div>,\n",
       " <div class=\"label \">Free Parking</div>,\n",
       " <div class=\"label \">Free Wifi</div>,\n",
       " <div class=\"label \">Free Parking</div>,\n",
       " <div class=\"label \">Free Parking</div>,\n",
       " <div class=\"label \">Breakfast included</div>,\n",
       " <div class=\"label \">Free Parking</div>,\n",
       " <div class=\"label \">Restaurant</div>,\n",
       " <div class=\"label \">Free Wifi</div>,\n",
       " <div class=\"label \">Free Parking</div>,\n",
       " <div class=\"label \">Free Wifi</div>,\n",
       " <div class=\"label \">Breakfast included</div>,\n",
       " <div class=\"label \">Free Parking</div>,\n",
       " <div class=\"label \">Restaurant</div>,\n",
       " <div class=\"label \">Free Parking</div>,\n",
       " <div class=\"label \">Breakfast included</div>,\n",
       " <div class=\"label \">Restaurant</div>,\n",
       " <div class=\"label \">Room Service</div>,\n",
       " <div class=\"label \">Free Wifi</div>,\n",
       " <div class=\"label \">Free Parking</div>,\n",
       " <div class=\"label \">Free Parking</div>,\n",
       " <div class=\"label \">Restaurant</div>,\n",
       " <div class=\"label \">Free Parking</div>,\n",
       " <div class=\"label \">Restaurant</div>,\n",
       " <div class=\"label \">Free Wifi</div>,\n",
       " <div class=\"label \">Free Parking</div>,\n",
       " <div class=\"label \">Restaurant</div>,\n",
       " <div class=\"label \">Room Service</div>,\n",
       " <div class=\"label \">Restaurant</div>,\n",
       " <div class=\"label \">Free Parking</div>,\n",
       " <div class=\"label \">Breakfast included</div>,\n",
       " <div class=\"label \">Free Parking</div>,\n",
       " <div class=\"label \">Restaurant</div>,\n",
       " <div class=\"label \">Free Wifi</div>,\n",
       " <div class=\"label \">Free Parking</div>,\n",
       " <div class=\"label \">Free Parking</div>,\n",
       " <div class=\"label \">Pool</div>,\n",
       " <div class=\"label \">Free Parking</div>,\n",
       " <div class=\"label \">Room Service</div>,\n",
       " <div class=\"label \">Free Parking</div>,\n",
       " <div class=\"label \">Restaurant</div>,\n",
       " <div class=\"label \">Free Wifi</div>,\n",
       " <div class=\"label \">Free Parking</div>,\n",
       " <div class=\"label \">Restaurant</div>,\n",
       " <div class=\"label \">Free Parking</div>,\n",
       " <div class=\"label \">Restaurant</div>,\n",
       " <div class=\"label \">Free Wifi</div>,\n",
       " <div class=\"label \">Free Parking</div>,\n",
       " <div class=\"label \">Free Wifi</div>,\n",
       " <div class=\"label \">Free Parking</div>]"
      ]
     },
     "execution_count": 37,
     "metadata": {},
     "output_type": "execute_result"
    }
   ],
   "source": [
    "facilities"
   ]
  },
  {
   "cell_type": "code",
   "execution_count": 38,
   "metadata": {
    "collapsed": true
   },
   "outputs": [],
   "source": [
    "rating = soup_obj.find_all('span',class_ = \"alt\")"
   ]
  },
  {
   "cell_type": "code",
   "execution_count": 39,
   "metadata": {},
   "outputs": [
    {
     "data": {
      "text/plain": [
       "[]"
      ]
     },
     "execution_count": 39,
     "metadata": {},
     "output_type": "execute_result"
    }
   ],
   "source": [
    "rating"
   ]
  },
  {
   "cell_type": "code",
   "execution_count": 19,
   "metadata": {},
   "outputs": [
    {
     "data": {
      "text/plain": [
       "[<a class=\"review_count\" data-clicksource=\"ReviewCount\" href=\"/Hotel_Review-g297625-d10721255-Reviews-Hotel_Grand_Nubra-Leh_Leh_District_Ladakh_Jammu_and_Kashmir.html#REVIEWS\" onclick=\"return false;\">13 reviews</a>,\n",
       " <a class=\"review_count\" data-clicksource=\"ReviewCount\" href=\"/Hotel_Review-g297625-d4232333-Reviews-Grand_Himalaya-Leh_Leh_District_Ladakh_Jammu_and_Kashmir.html#REVIEWS\" onclick=\"return false;\">131 reviews</a>,\n",
       " <a class=\"review_count\" data-clicksource=\"ReviewCount\" href=\"/Hotel_Review-g297625-d3297643-Reviews-Reenam_Hotel-Leh_Leh_District_Ladakh_Jammu_and_Kashmir.html#REVIEWS\" onclick=\"return false;\">179 reviews</a>,\n",
       " <a class=\"review_count\" data-clicksource=\"ReviewCount\" href=\"/Hotel_Review-g297625-d386865-Reviews-Hotel_Dragon_Ladakh-Leh_Leh_District_Ladakh_Jammu_and_Kashmir.html#REVIEWS\" onclick=\"return false;\">127 reviews</a>,\n",
       " <a class=\"review_count\" data-clicksource=\"ReviewCount\" href=\"/Hotel_Review-g297625-d1552998-Reviews-The_Mogol_Hotel-Leh_Leh_District_Ladakh_Jammu_and_Kashmir.html#REVIEWS\" onclick=\"return false;\">38 reviews</a>,\n",
       " <a class=\"review_count\" data-clicksource=\"ReviewCount\" href=\"/Hotel_Review-g297625-d736492-Reviews-Hotel_Shangrila-Leh_Leh_District_Ladakh_Jammu_and_Kashmir.html#REVIEWS\" onclick=\"return false;\">81 reviews</a>,\n",
       " <a class=\"review_count\" data-clicksource=\"ReviewCount\" href=\"/Hotel_Review-g297625-d735493-Reviews-Hotel_Namgyal_Palace-Leh_Leh_District_Ladakh_Jammu_and_Kashmir.html#REVIEWS\" onclick=\"return false;\">67 reviews</a>,\n",
       " <a class=\"review_count\" data-clicksource=\"ReviewCount\" href=\"/Hotel_Review-g297625-d1168845-Reviews-Hotel_Chube-Leh_Leh_District_Ladakh_Jammu_and_Kashmir.html#REVIEWS\" onclick=\"return false;\">295 reviews</a>,\n",
       " <a class=\"review_count\" data-clicksource=\"ReviewCount\" href=\"/Hotel_Review-g297625-d1149645-Reviews-Hotel_Holiday_Ladakh-Leh_Leh_District_Ladakh_Jammu_and_Kashmir.html#REVIEWS\" onclick=\"return false;\">94 reviews</a>,\n",
       " <a class=\"review_count\" data-clicksource=\"ReviewCount\" href=\"/Hotel_Review-g297625-d734927-Reviews-Hotel_Lingzi-Leh_Leh_District_Ladakh_Jammu_and_Kashmir.html#REVIEWS\" onclick=\"return false;\">149 reviews</a>,\n",
       " <a class=\"review_count\" data-clicksource=\"ReviewCount\" href=\"/Hotel_Review-g297625-d1009802-Reviews-Hotel_Mansarover-Leh_Leh_District_Ladakh_Jammu_and_Kashmir.html#REVIEWS\" onclick=\"return false;\">45 reviews</a>,\n",
       " <a class=\"review_count\" data-clicksource=\"ReviewCount\" href=\"/Hotel_Review-g297625-d1796652-Reviews-Hotel_Rafica-Leh_Leh_District_Ladakh_Jammu_and_Kashmir.html#REVIEWS\" onclick=\"return false;\">73 reviews</a>,\n",
       " <a class=\"review_count\" data-clicksource=\"ReviewCount\" href=\"/Hotel_Review-g297625-d498327-Reviews-Dreamland_Hotel-Leh_Leh_District_Ladakh_Jammu_and_Kashmir.html#REVIEWS\" onclick=\"return false;\">20 reviews</a>,\n",
       " <a class=\"review_count\" data-clicksource=\"ReviewCount\" href=\"/Hotel_Review-g297625-d1157816-Reviews-Yarab_Tso-Leh_Leh_District_Ladakh_Jammu_and_Kashmir.html#REVIEWS\" onclick=\"return false;\">81 reviews</a>,\n",
       " <a class=\"review_count\" data-clicksource=\"ReviewCount\" href=\"/Hotel_Review-g297625-d1195378-Reviews-Hotel_Naro-Leh_Leh_District_Ladakh_Jammu_and_Kashmir.html#REVIEWS\" onclick=\"return false;\">111 reviews</a>,\n",
       " <a class=\"review_count\" data-clicksource=\"ReviewCount\" href=\"/Hotel_Review-g297625-d2218610-Reviews-Hotel_Hill_Town-Leh_Leh_District_Ladakh_Jammu_and_Kashmir.html#REVIEWS\" onclick=\"return false;\">40 reviews</a>,\n",
       " <a class=\"review_count\" data-clicksource=\"ReviewCount\" href=\"/Hotel_Review-g297625-d1585479-Reviews-Hotel_K2_Continental-Leh_Leh_District_Ladakh_Jammu_and_Kashmir.html#REVIEWS\" onclick=\"return false;\">32 reviews</a>,\n",
       " <a class=\"review_count\" data-clicksource=\"ReviewCount\" href=\"/Hotel_Review-g297625-d2234889-Reviews-Hotel_Ga_Ldan_Continental-Leh_Leh_District_Ladakh_Jammu_and_Kashmir.html#REVIEWS\" onclick=\"return false;\">13 reviews</a>,\n",
       " <a class=\"review_count\" data-clicksource=\"ReviewCount\" href=\"/Hotel_Review-g297625-d1172788-Reviews-Hotel_Kang_Lha_Chen-Leh_Leh_District_Ladakh_Jammu_and_Kashmir.html#REVIEWS\" onclick=\"return false;\">11 reviews</a>,\n",
       " <a class=\"review_count\" data-clicksource=\"ReviewCount\" href=\"/Hotel_Review-g297625-d734720-Reviews-Lotus_Hotel-Leh_Leh_District_Ladakh_Jammu_and_Kashmir.html#REVIEWS\" onclick=\"return false;\">112 reviews</a>,\n",
       " <a class=\"review_count\" data-clicksource=\"ReviewCount\" href=\"/Hotel_Review-g297625-d304581-Reviews-Lharimo_Hotel-Leh_Leh_District_Ladakh_Jammu_and_Kashmir.html#REVIEWS\" onclick=\"return false;\">46 reviews</a>,\n",
       " <a class=\"review_count\" data-clicksource=\"ReviewCount\" href=\"/Hotel_Review-g297625-d1017953-Reviews-The_Grand_Dragon_Ladakh-Leh_Leh_District_Ladakh_Jammu_and_Kashmir.html#REVIEWS\" onclick=\"return false;\">664 reviews</a>,\n",
       " <a class=\"review_count\" data-clicksource=\"ReviewCount\" href=\"/Hotel_Review-g297625-d8142436-Reviews-WoodyVu_Stok_House-Leh_Leh_District_Ladakh_Jammu_and_Kashmir.html#REVIEWS\" onclick=\"return false;\">35 reviews</a>,\n",
       " <a class=\"review_count\" data-clicksource=\"ReviewCount\" href=\"/Hotel_Review-g297625-d1585877-Reviews-West_Ladakh_Camp-Leh_Leh_District_Ladakh_Jammu_and_Kashmir.html#REVIEWS\" onclick=\"return false;\">24 reviews</a>,\n",
       " <a class=\"review_count\" data-clicksource=\"ReviewCount\" href=\"/Hotel_Review-g297625-d1092983-Reviews-The_Kaal-Leh_Leh_District_Ladakh_Jammu_and_Kashmir.html#REVIEWS\" onclick=\"return false;\">171 reviews</a>,\n",
       " <a class=\"review_count\" data-clicksource=\"ReviewCount\" href=\"/Hotel_Review-g297625-d4454719-Reviews-Sangto_Villa_Resort-Leh_Leh_District_Ladakh_Jammu_and_Kashmir.html#REVIEWS\" onclick=\"return false;\">87 reviews</a>,\n",
       " <a class=\"review_count\" data-clicksource=\"ReviewCount\" href=\"/Hotel_Review-g297625-d1869871-Reviews-Aryan_Valley_Camp-Leh_Leh_District_Ladakh_Jammu_and_Kashmir.html#REVIEWS\" onclick=\"return false;\">7 reviews</a>,\n",
       " <a class=\"review_count\" data-clicksource=\"ReviewCount\" href=\"/Hotel_Review-g297625-d815082-Reviews-Hotel_Singge_Palace-Leh_Leh_District_Ladakh_Jammu_and_Kashmir.html#REVIEWS\" onclick=\"return false;\">209 reviews</a>,\n",
       " <a class=\"review_count\" data-clicksource=\"ReviewCount\" href=\"/Hotel_Review-g297625-d2266021-Reviews-OYO_5052_The_Auspicious_Hotel-Leh_Leh_District_Ladakh_Jammu_and_Kashmir.html#REVIEWS\" onclick=\"return false;\">182 reviews</a>,\n",
       " <a class=\"review_count\" data-clicksource=\"ReviewCount\" href=\"/Hotel_Review-g297625-d304580-Reviews-Spic_n_Span_Hotel-Leh_Leh_District_Ladakh_Jammu_and_Kashmir.html#REVIEWS\" onclick=\"return false;\">176 reviews</a>]"
      ]
     },
     "execution_count": 19,
     "metadata": {},
     "output_type": "execute_result"
    }
   ],
   "source": [
    "no_reviews"
   ]
  },
  {
   "cell_type": "code",
   "execution_count": 20,
   "metadata": {
    "collapsed": true
   },
   "outputs": [],
   "source": [
    "no_reviews_list = [test1.string for test1 in no_reviews]"
   ]
  },
  {
   "cell_type": "code",
   "execution_count": 21,
   "metadata": {},
   "outputs": [
    {
     "data": {
      "text/plain": [
       "['13 reviews',\n",
       " '131 reviews',\n",
       " '179 reviews',\n",
       " '127 reviews',\n",
       " '38 reviews',\n",
       " '81 reviews',\n",
       " '67 reviews',\n",
       " '295 reviews',\n",
       " '94 reviews',\n",
       " '149 reviews',\n",
       " '45 reviews',\n",
       " '73 reviews',\n",
       " '20 reviews',\n",
       " '81 reviews',\n",
       " '111 reviews',\n",
       " '40 reviews',\n",
       " '32 reviews',\n",
       " '13 reviews',\n",
       " '11 reviews',\n",
       " '112 reviews',\n",
       " '46 reviews',\n",
       " '664 reviews',\n",
       " '35 reviews',\n",
       " '24 reviews',\n",
       " '171 reviews',\n",
       " '87 reviews',\n",
       " '7 reviews',\n",
       " '209 reviews',\n",
       " '182 reviews',\n",
       " '176 reviews']"
      ]
     },
     "execution_count": 21,
     "metadata": {},
     "output_type": "execute_result"
    }
   ],
   "source": [
    "no_reviews_list"
   ]
  },
  {
   "cell_type": "code",
   "execution_count": 22,
   "metadata": {
    "collapsed": true
   },
   "outputs": [],
   "source": [
    "no_reviews_list = [w.replace(' reviews', '') for w in no_reviews_list]\n",
    "no_reviews_list = [w.replace(' review', '') for w in no_reviews_list]"
   ]
  },
  {
   "cell_type": "code",
   "execution_count": 23,
   "metadata": {
    "collapsed": true
   },
   "outputs": [],
   "source": [
    "no_reviews_list = [int(w) for w in no_reviews_list]"
   ]
  },
  {
   "cell_type": "code",
   "execution_count": 24,
   "metadata": {},
   "outputs": [
    {
     "data": {
      "text/plain": [
       "[13,\n",
       " 131,\n",
       " 179,\n",
       " 127,\n",
       " 38,\n",
       " 81,\n",
       " 67,\n",
       " 295,\n",
       " 94,\n",
       " 149,\n",
       " 45,\n",
       " 73,\n",
       " 20,\n",
       " 81,\n",
       " 111,\n",
       " 40,\n",
       " 32,\n",
       " 13,\n",
       " 11,\n",
       " 112,\n",
       " 46,\n",
       " 664,\n",
       " 35,\n",
       " 24,\n",
       " 171,\n",
       " 87,\n",
       " 7,\n",
       " 209,\n",
       " 182,\n",
       " 176]"
      ]
     },
     "execution_count": 24,
     "metadata": {},
     "output_type": "execute_result"
    }
   ],
   "source": [
    "no_reviews_list"
   ]
  },
  {
   "cell_type": "code",
   "execution_count": 29,
   "metadata": {
    "collapsed": true
   },
   "outputs": [],
   "source": [
    "links_list = [links1.get('href') for links1 in title]"
   ]
  },
  {
   "cell_type": "code",
   "execution_count": 30,
   "metadata": {},
   "outputs": [
    {
     "data": {
      "text/plain": [
       "['/Hotel_Review-g297625-d10721255-Reviews-Hotel_Grand_Nubra-Leh_Leh_District_Ladakh_Jammu_and_Kashmir.html',\n",
       " '/Hotel_Review-g297625-d4232333-Reviews-Grand_Himalaya-Leh_Leh_District_Ladakh_Jammu_and_Kashmir.html',\n",
       " '/Hotel_Review-g297625-d3297643-Reviews-Reenam_Hotel-Leh_Leh_District_Ladakh_Jammu_and_Kashmir.html',\n",
       " '/Hotel_Review-g297625-d386865-Reviews-Hotel_Dragon_Ladakh-Leh_Leh_District_Ladakh_Jammu_and_Kashmir.html',\n",
       " '/Hotel_Review-g297625-d1552998-Reviews-The_Mogol_Hotel-Leh_Leh_District_Ladakh_Jammu_and_Kashmir.html',\n",
       " '/Hotel_Review-g297625-d736492-Reviews-Hotel_Shangrila-Leh_Leh_District_Ladakh_Jammu_and_Kashmir.html',\n",
       " '/Hotel_Review-g297625-d735493-Reviews-Hotel_Namgyal_Palace-Leh_Leh_District_Ladakh_Jammu_and_Kashmir.html',\n",
       " '/Hotel_Review-g297625-d1168845-Reviews-Hotel_Chube-Leh_Leh_District_Ladakh_Jammu_and_Kashmir.html',\n",
       " '/Hotel_Review-g297625-d1149645-Reviews-Hotel_Holiday_Ladakh-Leh_Leh_District_Ladakh_Jammu_and_Kashmir.html',\n",
       " '/Hotel_Review-g297625-d734927-Reviews-Hotel_Lingzi-Leh_Leh_District_Ladakh_Jammu_and_Kashmir.html',\n",
       " '/Hotel_Review-g297625-d1009802-Reviews-Hotel_Mansarover-Leh_Leh_District_Ladakh_Jammu_and_Kashmir.html',\n",
       " '/Hotel_Review-g297625-d1796652-Reviews-Hotel_Rafica-Leh_Leh_District_Ladakh_Jammu_and_Kashmir.html',\n",
       " '/Hotel_Review-g297625-d498327-Reviews-Dreamland_Hotel-Leh_Leh_District_Ladakh_Jammu_and_Kashmir.html',\n",
       " '/Hotel_Review-g297625-d1157816-Reviews-Yarab_Tso-Leh_Leh_District_Ladakh_Jammu_and_Kashmir.html',\n",
       " '/Hotel_Review-g297625-d1195378-Reviews-Hotel_Naro-Leh_Leh_District_Ladakh_Jammu_and_Kashmir.html',\n",
       " '/Hotel_Review-g297625-d2218610-Reviews-Hotel_Hill_Town-Leh_Leh_District_Ladakh_Jammu_and_Kashmir.html',\n",
       " '/Hotel_Review-g297625-d1585479-Reviews-Hotel_K2_Continental-Leh_Leh_District_Ladakh_Jammu_and_Kashmir.html',\n",
       " '/Hotel_Review-g297625-d2234889-Reviews-Hotel_Ga_Ldan_Continental-Leh_Leh_District_Ladakh_Jammu_and_Kashmir.html',\n",
       " '/Hotel_Review-g297625-d1172788-Reviews-Hotel_Kang_Lha_Chen-Leh_Leh_District_Ladakh_Jammu_and_Kashmir.html',\n",
       " '/Hotel_Review-g297625-d734720-Reviews-Lotus_Hotel-Leh_Leh_District_Ladakh_Jammu_and_Kashmir.html',\n",
       " '/Hotel_Review-g297625-d304581-Reviews-Lharimo_Hotel-Leh_Leh_District_Ladakh_Jammu_and_Kashmir.html',\n",
       " '/Hotel_Review-g297625-d1017953-Reviews-The_Grand_Dragon_Ladakh-Leh_Leh_District_Ladakh_Jammu_and_Kashmir.html',\n",
       " '/Hotel_Review-g297625-d8142436-Reviews-WoodyVu_Stok_House-Leh_Leh_District_Ladakh_Jammu_and_Kashmir.html',\n",
       " '/Hotel_Review-g297625-d1585877-Reviews-West_Ladakh_Camp-Leh_Leh_District_Ladakh_Jammu_and_Kashmir.html',\n",
       " '/Hotel_Review-g297625-d1092983-Reviews-The_Kaal-Leh_Leh_District_Ladakh_Jammu_and_Kashmir.html',\n",
       " '/Hotel_Review-g297625-d4454719-Reviews-Sangto_Villa_Resort-Leh_Leh_District_Ladakh_Jammu_and_Kashmir.html',\n",
       " '/Hotel_Review-g297625-d1869871-Reviews-Aryan_Valley_Camp-Leh_Leh_District_Ladakh_Jammu_and_Kashmir.html',\n",
       " '/Hotel_Review-g297625-d815082-Reviews-Hotel_Singge_Palace-Leh_Leh_District_Ladakh_Jammu_and_Kashmir.html',\n",
       " '/Hotel_Review-g297625-d2266021-Reviews-OYO_5052_The_Auspicious_Hotel-Leh_Leh_District_Ladakh_Jammu_and_Kashmir.html',\n",
       " '/Hotel_Review-g297625-d304580-Reviews-Spic_n_Span_Hotel-Leh_Leh_District_Ladakh_Jammu_and_Kashmir.html']"
      ]
     },
     "execution_count": 30,
     "metadata": {},
     "output_type": "execute_result"
    }
   ],
   "source": [
    "links_list"
   ]
  },
  {
   "cell_type": "code",
   "execution_count": 1,
   "metadata": {},
   "outputs": [
    {
     "ename": "SyntaxError",
     "evalue": "invalid syntax (<ipython-input-1-404ae2e379c3>, line 61)",
     "output_type": "error",
     "traceback": [
      "\u001b[1;36m  File \u001b[1;32m\"<ipython-input-1-404ae2e379c3>\"\u001b[1;36m, line \u001b[1;32m61\u001b[0m\n\u001b[1;33m    https://automatetheboringstuff.com/chapter11/#calibre_link-13\u001b[0m\n\u001b[1;37m           ^\u001b[0m\n\u001b[1;31mSyntaxError\u001b[0m\u001b[1;31m:\u001b[0m invalid syntax\n"
     ]
    }
   ],
   "source": [
    "from selenium import webdriver\n",
    "from selenium.webdriver.common.keys import Keys \n",
    "\n",
    "driver = webdriver.Chrome('C:\\\\Users\\\\Vineet\\\\Documents\\\\ISB-H\\\\Big data collection\\\\group assign\\\\chromedriver.exe') \n",
    "driver.get(\"http://www.facebook.com\")    #get URL's page source\n",
    "assert \"Facebook\" in driver.title   # confirm with assert() if 'facebook' is in page title\n",
    "\n",
    "elem = driver.find_element_by_css_selector(\"#email\") \n",
    "\n",
    "elem.clear()    # first clear any pre-populated text in the input field\n",
    "elem.send_keys(\"vin25k@yahoo.com\")     # type \"pycon\" for py conf into search-text field \n",
    "elem.send_keys(Keys.RETURN)\n",
    "\n",
    "elem1 = driver.find_element_by_css_selector(\"#pass\")\n",
    "elem1.clear()    # first clear any pre-populated text in the input field\n",
    "elem1.send_keys(input(\" \"))     # type \"pycon\" for py conf into search-text field \n",
    "elem1.send_keys(Keys.RETURN)\n",
    "\n",
    "elem2 = driver.find_element_by_css_selector(\"._1frb\")\n",
    "elem2.clear()    # first clear any pre-populated text in the input field\n",
    "elem2.send_keys('Nike')     # type \"pycon\" for py conf into search-text field \n",
    "elem2.send_keys(Keys.RETURN)\n",
    "\n",
    "from bs4 import BeautifulSoup\n",
    "import requests\n",
    "\n",
    "\n",
    "linkElem = driver.find_element_by_link_text('Nike')\n",
    "type(linkElem)\n",
    "\n",
    "linkElem.click() \n",
    "\n",
    "link_photos = driver.find_element_by_link_text('Photos')\n",
    "type(link_photos)\n",
    "link_photos.click()\n",
    "\n",
    "#%%\n",
    "# Now load and scroll down nike page\n",
    "import time \n",
    "\n",
    "time.sleep(2)\n",
    "driver.execute_script(\"window.scrollTo(0, document.body.scrollHeight);\")\n",
    "time.sleep(2)\n",
    "driver.execute_script(\"window.scrollTo(0, document.body.scrollHeight);\")\n",
    "time.sleep(2)\n",
    "\n",
    "pagesrc = driver.page_source\n",
    "soup = BeautifulSoup(pagesrc,'lxml')\n",
    "images = soup.find_all('div',{'class':'_2eea'})\n",
    "\n",
    "images[0]\n",
    "\n",
    "len(images)\n",
    "\n",
    "img = images[0].find_all('img', {\"class\":'img', 'height':200})\n",
    "\n",
    "len(img)\n",
    "\n",
    "#https://stackoverflow.com/questions/15518274/how-to-get-the-child-elements-using-python-webdriver\n",
    "\n",
    "https://automatetheboringstuff.com/chapter11/#calibre_link-13\n",
    "    \n",
    "    \n",
    "\n",
    "r = requests.get(img[0]['src'])\n",
    "\n",
    "filename = 'C:\\\\Users\\\\Vineet\\\\Documents\\\\ISB-H\\\\Big data collection\\\\group assign' + '\\\\test_low' + '.png'\n",
    "with open(filename,'wb') as f:\n",
    "    f.write(r.content)\n",
    "\n",
    "himg = images[0].find_all('a', {\"rel\":\"theater\"})\n",
    "himg[0]\n",
    "himg[0]['href']\n",
    "len(himg)\n",
    "\n",
    "driver.get(himg[0]['href'] +'&theater')\n",
    "\n",
    "time.sleep(1)\n",
    "\n",
    "s = driver.page_source\n",
    "\n",
    "sp = BeautifulSoup(s,'lxml')\n",
    "\n",
    "a1  = sp.find_all('img', {'class':'spotlight'})\n",
    "\n",
    "link = a1[0]['src']\n",
    "\n",
    "r = requests.get(link) # create HTTP response object\n",
    "filename = 'C:\\\\Users\\\\Vineet\\\\Documents\\\\ISB-H\\\\Big data collection\\\\group assign' + '\\\\test_high' + '.png'\n",
    "with open(filename,'wb') as f:\n",
    "    f.write(r.content)\n"
   ]
  },
  {
   "cell_type": "code",
   "execution_count": null,
   "metadata": {
    "collapsed": true
   },
   "outputs": [],
   "source": []
  },
  {
   "cell_type": "code",
   "execution_count": null,
   "metadata": {
    "collapsed": true
   },
   "outputs": [],
   "source": []
  },
  {
   "cell_type": "code",
   "execution_count": null,
   "metadata": {
    "collapsed": true
   },
   "outputs": [],
   "source": []
  },
  {
   "cell_type": "code",
   "execution_count": null,
   "metadata": {
    "collapsed": true
   },
   "outputs": [],
   "source": []
  }
 ],
 "metadata": {
  "kernelspec": {
   "display_name": "Python 3",
   "language": "python",
   "name": "python3"
  },
  "language_info": {
   "codemirror_mode": {
    "name": "ipython",
    "version": 3
   },
   "file_extension": ".py",
   "mimetype": "text/x-python",
   "name": "python",
   "nbconvert_exporter": "python",
   "pygments_lexer": "ipython3",
   "version": "3.6.1"
  }
 },
 "nbformat": 4,
 "nbformat_minor": 2
}
